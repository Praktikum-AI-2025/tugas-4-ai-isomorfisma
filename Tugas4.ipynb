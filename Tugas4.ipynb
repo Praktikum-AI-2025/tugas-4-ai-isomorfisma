{
  "cells": [
    {
      "cell_type": "code",
      "execution_count": null,
      "metadata": {
        "id": "efl1UZ4t71Ei"
      },
      "outputs": [
        {
          "ename": "",
          "evalue": "",
          "output_type": "error",
          "traceback": [
            "\u001b[1;31mRunning cells with 'Python 3.12.3' requires the ipykernel package.\n",
            "\u001b[1;31mRun the following command to install 'ipykernel' into the Python environment. \n",
            "\u001b[1;31mCommand: '/usr/local/bin/python3 -m pip install ipykernel -U --user --force-reinstall'"
          ]
        }
      ],
      "source": [
        "# Step 1: Import Library\n",
        "import urllib.request\n",
        "import zipfile\n",
        "import tensorflow as tf\n",
        "import os\n",
        "from keras_preprocessing.image import ImageDataGenerator\n",
        "from tensorflow.keras.optimizers import RMSprop\n"
      ]
    },
    {
      "cell_type": "code",
      "execution_count": null,
      "metadata": {
        "id": "qQPR3g9b74dH"
      },
      "outputs": [],
      "source": [
        "# Step 2: Download dan Ekstrak Dataset\n",
        "train_url = 'https://github.com/dicodingacademy/assets/releases/download/release-horse-or-human/horse-or-human.zip'\n",
        "val_url = 'https://github.com/dicodingacademy/assets/raw/main/Simulation/machine_learning/validation-horse-or-human.zip'\n",
        "\n",
        "urllib.request.urlretrieve(train_url, 'horse-or-human.zip')\n",
        "urllib.request.urlretrieve(val_url, 'validation-horse-or-human.zip')\n",
        "\n",
        "with zipfile.ZipFile('horse-or-human.zip', 'r') as zip_ref:\n",
        "    zip_ref.extractall('data/horse-or-human')\n",
        "\n",
        "with zipfile.ZipFile('validation-horse-or-human.zip', 'r') as zip_ref:\n",
        "    zip_ref.extractall('data/validation-horse-or-human')\n"
      ]
    },
    {
      "cell_type": "code",
      "execution_count": null,
      "metadata": {
        "colab": {
          "base_uri": "https://localhost:8080/"
        },
        "id": "hrok45an77JH",
        "outputId": "1cfac207-27fe-452e-b385-29d8c144488c"
      },
      "outputs": [],
      "source": [
        "# Step 3: Setup ImageDataGenerator\n",
        "TRAINING_DIR = 'data/horse-or-human'\n",
        "VALIDATION_DIR = 'data/validation-horse-or-human'\n",
        "\n",
        "train_datagen = ImageDataGenerator(\n",
        "    rescale=1./255,\n",
        "    rotation_range=40,\n",
        "    zoom_range=0.2,\n",
        "    shear_range=0.2,\n",
        "    horizontal_flip=True,\n",
        "    fill_mode='nearest'\n",
        ")\n",
        "\n",
        "validation_datagen = ImageDataGenerator(rescale=1./255)\n",
        "\n",
        "train_generator = train_datagen.flow_from_directory(\n",
        "    TRAINING_DIR,\n",
        "    target_size=(150, 150),\n",
        "    batch_size=32,\n",
        "    class_mode='binary'\n",
        ")\n",
        "\n",
        "validation_generator = validation_datagen.flow_from_directory(\n",
        "    VALIDATION_DIR,\n",
        "    target_size=(150, 150),\n",
        "    batch_size=32,\n",
        "    class_mode='binary'\n",
        ")\n"
      ]
    },
    {
      "cell_type": "code",
      "execution_count": null,
      "metadata": {
        "colab": {
          "base_uri": "https://localhost:8080/"
        },
        "id": "5EaVo-jk79LL",
        "outputId": "134c02d8-3781-43f8-89c6-25f9afb025be"
      },
      "outputs": [],
      "source": [
        "# Step 4: Membangun Model\n",
        "model = tf.keras.models.Sequential([\n",
        "    tf.keras.layers.Conv2D(16, (3,3), activation='relu', input_shape=(150,150,3)),\n",
        "    tf.keras.layers.MaxPooling2D(2,2),\n",
        "\n",
        "    tf.keras.layers.Conv2D(32, (3,3), activation='relu'),\n",
        "    tf.keras.layers.MaxPooling2D(2,2),\n",
        "\n",
        "    tf.keras.layers.Conv2D(64, (3,3), activation='relu'),\n",
        "    tf.keras.layers.MaxPooling2D(2,2),\n",
        "\n",
        "    tf.keras.layers.Flatten(),\n",
        "    tf.keras.layers.Dense(512, activation='relu'),\n",
        "    tf.keras.layers.Dense(1, activation='sigmoid')  # Jangan ubah baris ini!\n",
        "])\n"
      ]
    },
    {
      "cell_type": "code",
      "execution_count": null,
      "metadata": {
        "id": "rrGYALKy7-S-"
      },
      "outputs": [],
      "source": [
        "# Step 5: Compile Model\n",
        "model.compile(\n",
        "    loss='binary_crossentropy',\n",
        "    optimizer=RMSprop(learning_rate=0.001),\n",
        "    metrics=['accuracy']\n",
        ")\n"
      ]
    },
    {
      "cell_type": "code",
      "execution_count": null,
      "metadata": {
        "colab": {
          "base_uri": "https://localhost:8080/"
        },
        "id": "u3XgLhI48Cvt",
        "outputId": "53dac975-14f6-44b9-a82c-2f27fb4c5957"
      },
      "outputs": [],
      "source": [
        "# Step 6: Train Model\n",
        "history = model.fit(\n",
        "    train_generator,\n",
        "    epochs=15,\n",
        "    validation_data=validation_generator,\n",
        "    verbose=1\n",
        ")\n"
      ]
    },
    {
      "cell_type": "code",
      "execution_count": null,
      "metadata": {
        "colab": {
          "base_uri": "https://localhost:8080/"
        },
        "id": "O_dVa1Dt8FMZ",
        "outputId": "2df850b7-8c45-4080-8573-bb8d61fe9fb0"
      },
      "outputs": [],
      "source": [
        "# Step 7: Simpan Model\n",
        "model.save(\"model_05.h5\")"
      ]
    }
  ],
  "metadata": {
    "colab": {
      "provenance": []
    },
    "kernelspec": {
      "display_name": "Python 3",
      "name": "python3"
    },
    "language_info": {
      "name": "python",
      "version": "3.12.3"
    }
  },
  "nbformat": 4,
  "nbformat_minor": 0
}
